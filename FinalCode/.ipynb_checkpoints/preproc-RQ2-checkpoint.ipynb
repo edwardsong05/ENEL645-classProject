{
 "cells": [
  {
   "cell_type": "code",
   "execution_count": 1,
   "metadata": {},
   "outputs": [
    {
     "name": "stderr",
     "output_type": "stream",
     "text": [
      "INFO:sparkhpc.sparkjob:Submitted batch job 676269\n",
      "\n",
      "INFO:sparkhpc.sparkjob:Submitted cluster 1\n"
     ]
    }
   ],
   "source": [
    "import os\n",
    "import atexit\n",
    "import sys\n",
    "\n",
    "import pyspark\n",
    "from pyspark.context import SparkContext\n",
    "from pyspark.sql import SQLContext\n",
    "import findspark\n",
    "from sparkhpc import sparkjob\n",
    "\n",
    "#Exit handler to clean up the Spark cluster if the script exits or crashes\n",
    "def exitHandler(sj,sc):\n",
    "    try:\n",
    "        print('Trapped Exit cleaning up Spark Context')\n",
    "        sc.stop()\n",
    "    except:\n",
    "        pass\n",
    "    try:\n",
    "        print('Trapped Exit cleaning up Spark Job')\n",
    "        sj.stop()\n",
    "    except:\n",
    "        pass\n",
    "\n",
    "findspark.init()\n",
    "\n",
    "#Parameters for the Spark cluster\n",
    "nodes=15\n",
    "tasks_per_node=8 \n",
    "memory_per_task=1024 #1 gig per process, adjust accordingly\n",
    "# Please estimate walltime carefully to keep unused Spark clusters from sitting \n",
    "# idle so that others may use the resources.\n",
    "walltime=\"8:00\" #1 hour\n",
    "os.environ['SBATCH_PARTITION']='lattice' #Set the appropriate ARC partition\n",
    "\n",
    "sj = sparkjob.sparkjob(\n",
    "     ncores=nodes*tasks_per_node,\n",
    "     cores_per_executor=tasks_per_node,\n",
    "     memory_per_core=memory_per_task,\n",
    "     walltime=walltime\n",
    "    )\n",
    "\n",
    "sj.wait_to_start()\n",
    "sc = sj.start_spark()\n",
    "\n",
    "#Register the exit handler                                                                                                     \n",
    "atexit.register(exitHandler,sj,sc)\n",
    "\n",
    "#You need this line if you want to use SparkSQL\n",
    "sqlCtx=SQLContext(sc)"
   ]
  },
  {
   "cell_type": "markdown",
   "metadata": {},
   "source": [
    "# Load data"
   ]
  },
  {
   "cell_type": "code",
   "execution_count": 2,
   "metadata": {},
   "outputs": [],
   "source": [
    "from pyspark.sql import SparkSession\n",
    "from pyspark.sql.functions import when\n",
    "from pyspark.sql import functions as F\n",
    "spark = SparkSession.builder.appName('dfTest').getOrCreate()\n",
    "df = spark.read.csv('Data/AirOnTimeCSV/airOT20*',inferSchema=True,header=True)"
   ]
  },
  {
   "cell_type": "code",
   "execution_count": 3,
   "metadata": {
    "scrolled": true
   },
   "outputs": [
    {
     "name": "stdout",
     "output_type": "stream",
     "text": [
      "root\n",
      " |-- YEAR: integer (nullable = true)\n",
      " |-- MONTH: integer (nullable = true)\n",
      " |-- DAY_OF_MONTH: integer (nullable = true)\n",
      " |-- DAY_OF_WEEK: integer (nullable = true)\n",
      " |-- FL_DATE: timestamp (nullable = true)\n",
      " |-- UNIQUE_CARRIER: string (nullable = true)\n",
      " |-- TAIL_NUM: string (nullable = true)\n",
      " |-- FL_NUM: integer (nullable = true)\n",
      " |-- ORIGIN_AIRPORT_ID: integer (nullable = true)\n",
      " |-- ORIGIN: string (nullable = true)\n",
      " |-- ORIGIN_STATE_ABR: string (nullable = true)\n",
      " |-- DEST_AIRPORT_ID: integer (nullable = true)\n",
      " |-- DEST: string (nullable = true)\n",
      " |-- DEST_STATE_ABR: string (nullable = true)\n",
      " |-- CRS_DEP_TIME: integer (nullable = true)\n",
      " |-- DEP_TIME: integer (nullable = true)\n",
      " |-- DEP_DELAY: double (nullable = true)\n",
      " |-- DEP_DELAY_NEW: double (nullable = true)\n",
      " |-- DEP_DEL15: double (nullable = true)\n",
      " |-- DEP_DELAY_GROUP: integer (nullable = true)\n",
      " |-- TAXI_OUT: double (nullable = true)\n",
      " |-- WHEELS_OFF: string (nullable = true)\n",
      " |-- WHEELS_ON: string (nullable = true)\n",
      " |-- TAXI_IN: double (nullable = true)\n",
      " |-- CRS_ARR_TIME: integer (nullable = true)\n",
      " |-- ARR_TIME: integer (nullable = true)\n",
      " |-- ARR_DELAY: double (nullable = true)\n",
      " |-- ARR_DELAY_NEW: double (nullable = true)\n",
      " |-- ARR_DEL15: double (nullable = true)\n",
      " |-- ARR_DELAY_GROUP: integer (nullable = true)\n",
      " |-- CANCELLED: double (nullable = true)\n",
      " |-- CANCELLATION_CODE: string (nullable = true)\n",
      " |-- DIVERTED: double (nullable = true)\n",
      " |-- CRS_ELAPSED_TIME: double (nullable = true)\n",
      " |-- ACTUAL_ELAPSED_TIME: double (nullable = true)\n",
      " |-- AIR_TIME: double (nullable = true)\n",
      " |-- FLIGHTS: double (nullable = true)\n",
      " |-- DISTANCE: double (nullable = true)\n",
      " |-- DISTANCE_GROUP: integer (nullable = true)\n",
      " |-- CARRIER_DELAY: double (nullable = true)\n",
      " |-- WEATHER_DELAY: double (nullable = true)\n",
      " |-- NAS_DELAY: double (nullable = true)\n",
      " |-- SECURITY_DELAY: double (nullable = true)\n",
      " |-- LATE_AIRCRAFT_DELAY: double (nullable = true)\n",
      "\n"
     ]
    }
   ],
   "source": [
    "# remove empty last column and print schema\n",
    "df = df.select(df.columns[:44])\n",
    "#print(df.count())\n",
    "df.printSchema()"
   ]
  },
  {
   "cell_type": "code",
   "execution_count": 4,
   "metadata": {
    "scrolled": true
   },
   "outputs": [
    {
     "name": "stdout",
     "output_type": "stream",
     "text": [
      "+----+-----+------------+-----------+-------------------+--------------+--------+------+-----------------+------+----------------+---------------+----+--------------+------------+--------+---------+-------------+---------+---------------+--------+----------+---------+-------+------------+--------+---------+-------------+---------+---------------+---------+-----------------+--------+----------------+-------------------+--------+-------+--------+--------------+-------------+-------------+---------+--------------+-------------------+\n",
      "|YEAR|MONTH|DAY_OF_MONTH|DAY_OF_WEEK|            FL_DATE|UNIQUE_CARRIER|TAIL_NUM|FL_NUM|ORIGIN_AIRPORT_ID|ORIGIN|ORIGIN_STATE_ABR|DEST_AIRPORT_ID|DEST|DEST_STATE_ABR|CRS_DEP_TIME|DEP_TIME|DEP_DELAY|DEP_DELAY_NEW|DEP_DEL15|DEP_DELAY_GROUP|TAXI_OUT|WHEELS_OFF|WHEELS_ON|TAXI_IN|CRS_ARR_TIME|ARR_TIME|ARR_DELAY|ARR_DELAY_NEW|ARR_DEL15|ARR_DELAY_GROUP|CANCELLED|CANCELLATION_CODE|DIVERTED|CRS_ELAPSED_TIME|ACTUAL_ELAPSED_TIME|AIR_TIME|FLIGHTS|DISTANCE|DISTANCE_GROUP|CARRIER_DELAY|WEATHER_DELAY|NAS_DELAY|SECURITY_DELAY|LATE_AIRCRAFT_DELAY|\n",
      "+----+-----+------------+-----------+-------------------+--------------+--------+------+-----------------+------+----------------+---------------+----+--------------+------------+--------+---------+-------------+---------+---------------+--------+----------+---------+-------+------------+--------+---------+-------------+---------+---------------+---------+-----------------+--------+----------------+-------------------+--------+-------+--------+--------------+-------------+-------------+---------+--------------+-------------------+\n",
      "|2006|    8|           1|          2|2006-08-01 00:00:00|            AA|  N588AA|   346|            12266|   IAH|              TX|          13930| ORD|            IL|        1546|    1645|     59.0|         59.0|      1.0|              3|    12.0|      1657|     1913|    4.0|        1830|    1917|     47.0|         47.0|      1.0|              3|      0.0|             null|     0.0|           164.0|              152.0|   136.0|    1.0|   925.0|             4|          0.0|          0.0|      0.0|           0.0|               47.0|\n",
      "|2006|    8|           2|          3|2006-08-02 00:00:00|            AA|  N479AA|   346|            12266|   IAH|              TX|          13930| ORD|            IL|        1546|    1543|     -3.0|          0.0|      0.0|             -1|    17.0|      1600|     1828|   31.0|        1830|    1859|     29.0|         29.0|      1.0|              1|      0.0|             null|     0.0|           164.0|              196.0|   148.0|    1.0|   925.0|             4|          0.0|          0.0|     29.0|           0.0|                0.0|\n",
      "|2006|    8|           3|          4|2006-08-03 00:00:00|            AA|  N4WVAA|   346|            12266|   IAH|              TX|          13930| ORD|            IL|        1546|    1652|     66.0|         66.0|      1.0|              4|    16.0|      1708|     1922|   14.0|        1830|    1936|     66.0|         66.0|      1.0|              4|      0.0|             null|     0.0|           164.0|              164.0|   134.0|    1.0|   925.0|             4|          0.0|          2.0|      0.0|           0.0|               64.0|\n",
      "|2006|    8|           4|          5|2006-08-04 00:00:00|            AA|  N4UBAA|   346|            12266|   IAH|              TX|          13930| ORD|            IL|        1546|    1546|      0.0|          0.0|      0.0|              0|    20.0|      1606|     1815|    9.0|        1830|    1824|     -6.0|          0.0|      0.0|             -1|      0.0|             null|     0.0|           164.0|              158.0|   129.0|    1.0|   925.0|             4|         null|         null|     null|          null|               null|\n",
      "|2006|    8|           5|          6|2006-08-05 00:00:00|            AA|  N461AA|   346|            12266|   IAH|              TX|          13930| ORD|            IL|        1554|    1730|     96.0|         96.0|      1.0|              6|    12.0|      1742|     1946|    8.0|        1840|    1954|     74.0|         74.0|      1.0|              4|      0.0|             null|     0.0|           166.0|              144.0|   124.0|    1.0|   925.0|             4|          0.0|          0.0|      0.0|           0.0|               74.0|\n",
      "+----+-----+------------+-----------+-------------------+--------------+--------+------+-----------------+------+----------------+---------------+----+--------------+------------+--------+---------+-------------+---------+---------------+--------+----------+---------+-------+------------+--------+---------+-------------+---------+---------------+---------+-----------------+--------+----------------+-------------------+--------+-------+--------+--------------+-------------+-------------+---------+--------------+-------------------+\n",
      "only showing top 5 rows\n",
      "\n"
     ]
    }
   ],
   "source": [
    "# limit to just flights out of Houston (IAH)\n",
    "df = df.where(df.ORIGIN == \"IAH\")\n",
    "df.show(5)"
   ]
  },
  {
   "cell_type": "code",
   "execution_count": 5,
   "metadata": {},
   "outputs": [
    {
     "name": "stdout",
     "output_type": "stream",
     "text": [
      "2306830\n"
     ]
    }
   ],
   "source": [
    "print(df.count())"
   ]
  },
  {
   "cell_type": "markdown",
   "metadata": {},
   "source": [
    "# Delays greater than 15 with delay types"
   ]
  },
  {
   "cell_type": "code",
   "execution_count": 18,
   "metadata": {},
   "outputs": [
    {
     "name": "stdout",
     "output_type": "stream",
     "text": [
      "+----+-----+------------+-----------+-------------------+--------------+--------+------+-----------------+------+----------------+---------------+----+--------------+------------+--------+---------+-------------+---------+---------------+--------+----------+---------+-------+------------+--------+---------+-------------+---------+---------------+---------+-----------------+--------+----------------+-------------------+--------+-------+--------+--------------+-------------+-------------+---------+--------------+-------------------+\n",
      "|YEAR|MONTH|DAY_OF_MONTH|DAY_OF_WEEK|            FL_DATE|UNIQUE_CARRIER|TAIL_NUM|FL_NUM|ORIGIN_AIRPORT_ID|ORIGIN|ORIGIN_STATE_ABR|DEST_AIRPORT_ID|DEST|DEST_STATE_ABR|CRS_DEP_TIME|DEP_TIME|DEP_DELAY|DEP_DELAY_NEW|DEP_DEL15|DEP_DELAY_GROUP|TAXI_OUT|WHEELS_OFF|WHEELS_ON|TAXI_IN|CRS_ARR_TIME|ARR_TIME|ARR_DELAY|ARR_DELAY_NEW|ARR_DEL15|ARR_DELAY_GROUP|CANCELLED|CANCELLATION_CODE|DIVERTED|CRS_ELAPSED_TIME|ACTUAL_ELAPSED_TIME|AIR_TIME|FLIGHTS|DISTANCE|DISTANCE_GROUP|CARRIER_DELAY|WEATHER_DELAY|NAS_DELAY|SECURITY_DELAY|LATE_AIRCRAFT_DELAY|\n",
      "+----+-----+------------+-----------+-------------------+--------------+--------+------+-----------------+------+----------------+---------------+----+--------------+------------+--------+---------+-------------+---------+---------------+--------+----------+---------+-------+------------+--------+---------+-------------+---------+---------------+---------+-----------------+--------+----------------+-------------------+--------+-------+--------+--------------+-------------+-------------+---------+--------------+-------------------+\n",
      "|2006|    8|           1|          2|2006-08-01 00:00:00|            AA|  N588AA|   346|            12266|   IAH|              TX|          13930| ORD|            IL|        1546|    1645|     59.0|         59.0|      1.0|              3|    12.0|      1657|     1913|    4.0|        1830|    1917|     47.0|         47.0|      1.0|              3|      0.0|             null|     0.0|           164.0|              152.0|   136.0|    1.0|   925.0|             4|          0.0|          0.0|      0.0|           0.0|               47.0|\n",
      "|2006|    8|           2|          3|2006-08-02 00:00:00|            AA|  N479AA|   346|            12266|   IAH|              TX|          13930| ORD|            IL|        1546|    1543|     -3.0|          0.0|      0.0|             -1|    17.0|      1600|     1828|   31.0|        1830|    1859|     29.0|         29.0|      1.0|              1|      0.0|             null|     0.0|           164.0|              196.0|   148.0|    1.0|   925.0|             4|          0.0|          0.0|     29.0|           0.0|                0.0|\n",
      "|2006|    8|           3|          4|2006-08-03 00:00:00|            AA|  N4WVAA|   346|            12266|   IAH|              TX|          13930| ORD|            IL|        1546|    1652|     66.0|         66.0|      1.0|              4|    16.0|      1708|     1922|   14.0|        1830|    1936|     66.0|         66.0|      1.0|              4|      0.0|             null|     0.0|           164.0|              164.0|   134.0|    1.0|   925.0|             4|          0.0|          2.0|      0.0|           0.0|               64.0|\n",
      "|2006|    8|           5|          6|2006-08-05 00:00:00|            AA|  N461AA|   346|            12266|   IAH|              TX|          13930| ORD|            IL|        1554|    1730|     96.0|         96.0|      1.0|              6|    12.0|      1742|     1946|    8.0|        1840|    1954|     74.0|         74.0|      1.0|              4|      0.0|             null|     0.0|           166.0|              144.0|   124.0|    1.0|   925.0|             4|          0.0|          0.0|      0.0|           0.0|               74.0|\n",
      "|2006|    8|           6|          7|2006-08-06 00:00:00|            AA|  N571AA|   346|            12266|   IAH|              TX|          13930| ORD|            IL|        1546|    1600|     14.0|         14.0|      0.0|              0|    38.0|      1638|     1849|    8.0|        1830|    1857|     27.0|         27.0|      1.0|              1|      0.0|             null|     0.0|           164.0|              177.0|   131.0|    1.0|   925.0|             4|          0.0|          0.0|     16.0|           0.0|               11.0|\n",
      "+----+-----+------------+-----------+-------------------+--------------+--------+------+-----------------+------+----------------+---------------+----+--------------+------------+--------+---------+-------------+---------+---------------+--------+----------+---------+-------+------------+--------+---------+-------------+---------+---------------+---------+-----------------+--------+----------------+-------------------+--------+-------+--------+--------------+-------------+-------------+---------+--------------+-------------------+\n",
      "only showing top 5 rows\n",
      "\n"
     ]
    }
   ],
   "source": [
    "# filter for only delayed flights\n",
    "del15df = df.where(df.ARR_DEL15 > 0.5) \n",
    "del15df.show(5)\n",
    "#print(del15df.count())"
   ]
  },
  {
   "cell_type": "code",
   "execution_count": 19,
   "metadata": {
    "scrolled": true
   },
   "outputs": [
    {
     "name": "stdout",
     "output_type": "stream",
     "text": [
      "+----+-----+-----------+--------------+----+--------------+------------+------------+--------+-------------+-------------+---------+--------------+-------------------+\n",
      "|YEAR|MONTH|DAY_OF_WEEK|UNIQUE_CARRIER|DEST|DEST_STATE_ABR|CRS_DEP_TIME|CRS_ARR_TIME|DISTANCE|CARRIER_DELAY|WEATHER_DELAY|NAS_DELAY|SECURITY_DELAY|LATE_AIRCRAFT_DELAY|\n",
      "+----+-----+-----------+--------------+----+--------------+------------+------------+--------+-------------+-------------+---------+--------------+-------------------+\n",
      "|2006|    8|          2|            AA| ORD|            IL|        1546|        1830|   925.0|          0.0|          0.0|      0.0|           0.0|               47.0|\n",
      "|2006|    8|          3|            AA| ORD|            IL|        1546|        1830|   925.0|          0.0|          0.0|     29.0|           0.0|                0.0|\n",
      "|2006|    8|          4|            AA| ORD|            IL|        1546|        1830|   925.0|          0.0|          2.0|      0.0|           0.0|               64.0|\n",
      "|2006|    8|          6|            AA| ORD|            IL|        1554|        1840|   925.0|          0.0|          0.0|      0.0|           0.0|               74.0|\n",
      "|2006|    8|          7|            AA| ORD|            IL|        1546|        1830|   925.0|          0.0|          0.0|     16.0|           0.0|               11.0|\n",
      "|2006|    8|          2|            AA| ORD|            IL|        1546|        1830|   925.0|          0.0|          3.0|     35.0|           0.0|                3.0|\n",
      "|2006|    8|          4|            AA| ORD|            IL|        1546|        1830|   925.0|          0.0|          0.0|     31.0|           0.0|                0.0|\n",
      "|2006|    8|          1|            AA| ORD|            IL|        1546|        1830|   925.0|          0.0|          0.0|     62.0|           0.0|                0.0|\n",
      "|2006|    8|          2|            AA| ORD|            IL|        1546|        1830|   925.0|          0.0|          0.0|     27.0|           0.0|                0.0|\n",
      "|2006|    8|          4|            AA| ORD|            IL|        1546|        1830|   925.0|          0.0|          0.0|     22.0|           0.0|               76.0|\n",
      "+----+-----+-----------+--------------+----+--------------+------------+------------+--------+-------------+-------------+---------+--------------+-------------------+\n",
      "only showing top 10 rows\n",
      "\n"
     ]
    }
   ],
   "source": [
    "# Select features and label\n",
    "del15df = del15df.select(\"YEAR\", \"MONTH\", \"DAY_OF_WEEK\", \"UNIQUE_CARRIER\", \\\n",
    "               \"DEST\", \"DEST_STATE_ABR\", \"CRS_DEP_TIME\", \"CRS_ARR_TIME\", \\\n",
    "               \"DISTANCE\",\"CARRIER_DELAY\", \"WEATHER_DELAY\", \"NAS_DELAY\", \\\n",
    "               \"SECURITY_DELAY\", \"LATE_AIRCRAFT_DELAY\")\n",
    "del15df.show(10)"
   ]
  },
  {
   "cell_type": "code",
   "execution_count": 8,
   "metadata": {},
   "outputs": [
    {
     "name": "stdout",
     "output_type": "stream",
     "text": [
      "456815\n"
     ]
    }
   ],
   "source": [
    "# check number of rows\n",
    "print(del15df.count())"
   ]
  },
  {
   "cell_type": "code",
   "execution_count": 20,
   "metadata": {},
   "outputs": [
    {
     "name": "stdout",
     "output_type": "stream",
     "text": [
      "+----+-----+-----------+--------------+----+--------------+------------+------------+--------+-------------+-------------+---------+--------------+-------------------+\n",
      "|YEAR|MONTH|DAY_OF_WEEK|UNIQUE_CARRIER|DEST|DEST_STATE_ABR|CRS_DEP_TIME|CRS_ARR_TIME|DISTANCE|CARRIER_DELAY|WEATHER_DELAY|NAS_DELAY|SECURITY_DELAY|LATE_AIRCRAFT_DELAY|\n",
      "+----+-----+-----------+--------------+----+--------------+------------+------------+--------+-------------+-------------+---------+--------------+-------------------+\n",
      "|2006|    8|          2|            AA| ORD|            IL|        1546|        1830|   925.0|          0.0|          0.0|      0.0|           0.0|               47.0|\n",
      "|2006|    8|          3|            AA| ORD|            IL|        1546|        1830|   925.0|          0.0|          0.0|     29.0|           0.0|                0.0|\n",
      "|2006|    8|          4|            AA| ORD|            IL|        1546|        1830|   925.0|          0.0|          2.0|      0.0|           0.0|               64.0|\n",
      "|2006|    8|          6|            AA| ORD|            IL|        1554|        1840|   925.0|          0.0|          0.0|      0.0|           0.0|               74.0|\n",
      "|2006|    8|          7|            AA| ORD|            IL|        1546|        1830|   925.0|          0.0|          0.0|     16.0|           0.0|               11.0|\n",
      "|2006|    8|          2|            AA| ORD|            IL|        1546|        1830|   925.0|          0.0|          3.0|     35.0|           0.0|                3.0|\n",
      "|2006|    8|          4|            AA| ORD|            IL|        1546|        1830|   925.0|          0.0|          0.0|     31.0|           0.0|                0.0|\n",
      "|2006|    8|          1|            AA| ORD|            IL|        1546|        1830|   925.0|          0.0|          0.0|     62.0|           0.0|                0.0|\n",
      "|2006|    8|          2|            AA| ORD|            IL|        1546|        1830|   925.0|          0.0|          0.0|     27.0|           0.0|                0.0|\n",
      "|2006|    8|          4|            AA| ORD|            IL|        1546|        1830|   925.0|          0.0|          0.0|     22.0|           0.0|               76.0|\n",
      "+----+-----+-----------+--------------+----+--------------+------------+------------+--------+-------------+-------------+---------+--------------+-------------------+\n",
      "only showing top 10 rows\n",
      "\n"
     ]
    }
   ],
   "source": [
    "# only take data where the delay types are recorded (started recording at 6/2003)\n",
    "del15df = del15df.where(del15df.YEAR > 2003)\n",
    "del15df.show(10)"
   ]
  },
  {
   "cell_type": "code",
   "execution_count": 10,
   "metadata": {},
   "outputs": [
    {
     "name": "stdout",
     "output_type": "stream",
     "text": [
      "358823\n"
     ]
    }
   ],
   "source": [
    "# check number of rows\n",
    "print(del15df.count())"
   ]
  },
  {
   "cell_type": "code",
   "execution_count": 21,
   "metadata": {},
   "outputs": [
    {
     "name": "stdout",
     "output_type": "stream",
     "text": [
      "+----+-----+-----------+--------------+----+--------------+------------+------------+--------+-------------+-------------+---------+--------------+-------------------+\n",
      "|YEAR|MONTH|DAY_OF_WEEK|UNIQUE_CARRIER|DEST|DEST_STATE_ABR|CRS_DEP_TIME|CRS_ARR_TIME|DISTANCE|CARRIER_DELAY|WEATHER_DELAY|NAS_DELAY|SECURITY_DELAY|LATE_AIRCRAFT_DELAY|\n",
      "+----+-----+-----------+--------------+----+--------------+------------+------------+--------+-------------+-------------+---------+--------------+-------------------+\n",
      "|2006|    8|          2|            AA| ORD|            IL|        1546|        1830|   925.0|            0|            0|        0|             0|                  1|\n",
      "|2006|    8|          3|            AA| ORD|            IL|        1546|        1830|   925.0|            0|            0|        1|             0|                  0|\n",
      "|2006|    8|          4|            AA| ORD|            IL|        1546|        1830|   925.0|            0|            1|        0|             0|                  1|\n",
      "|2006|    8|          6|            AA| ORD|            IL|        1554|        1840|   925.0|            0|            0|        0|             0|                  1|\n",
      "|2006|    8|          7|            AA| ORD|            IL|        1546|        1830|   925.0|            0|            0|        1|             0|                  1|\n",
      "|2006|    8|          2|            AA| ORD|            IL|        1546|        1830|   925.0|            0|            1|        1|             0|                  1|\n",
      "|2006|    8|          4|            AA| ORD|            IL|        1546|        1830|   925.0|            0|            0|        1|             0|                  0|\n",
      "|2006|    8|          1|            AA| ORD|            IL|        1546|        1830|   925.0|            0|            0|        1|             0|                  0|\n",
      "|2006|    8|          2|            AA| ORD|            IL|        1546|        1830|   925.0|            0|            0|        1|             0|                  0|\n",
      "|2006|    8|          4|            AA| ORD|            IL|        1546|        1830|   925.0|            0|            0|        1|             0|                  1|\n",
      "+----+-----+-----------+--------------+----+--------------+------------+------------+--------+-------------+-------------+---------+--------------+-------------------+\n",
      "only showing top 10 rows\n",
      "\n"
     ]
    }
   ],
   "source": [
    "# convert label columns (delay types) to boolean rather than the delay time. \n",
    "del15df = del15df.withColumn(\"CARRIER_DELAY_LABEL\", when(del15df.CARRIER_DELAY > 0, 1).otherwise(0))\n",
    "del15df = del15df.withColumn(\"WEATHER_DELAY_LABEL\", when(del15df.WEATHER_DELAY > 0, 1).otherwise(0))\n",
    "del15df = del15df.withColumn(\"NAS_DELAY_LABEL\", when(del15df.NAS_DELAY > 0, 1).otherwise(0))\n",
    "del15df = del15df.withColumn(\"SECURITY_DELAY_LABEL\", when(del15df.SECURITY_DELAY > 0, 1).otherwise(0))\n",
    "del15df = del15df.withColumn(\"LATE_AIRCRAFT_DELAY_LABEL\", when(del15df.LATE_AIRCRAFT_DELAY > 0, 1).otherwise(0))\n",
    "\n",
    "del15df = del15df.select(\"YEAR\", \"MONTH\", \"DAY_OF_WEEK\", \"UNIQUE_CARRIER\", \\\n",
    "                \"DEST\", \"DEST_STATE_ABR\", \"CRS_DEP_TIME\", \"CRS_ARR_TIME\", \\\n",
    "                \"DISTANCE\", \\\n",
    "                F.col(\"CARRIER_DELAY_LABEL\").alias(\"CARRIER_DELAY\"), \\\n",
    "                F.col(\"WEATHER_DELAY_LABEL\").alias(\"WEATHER_DELAY\"), \\\n",
    "                F.col(\"NAS_DELAY_LABEL\").alias(\"NAS_DELAY\"), \\\n",
    "                F.col(\"SECURITY_DELAY_LABEL\").alias(\"SECURITY_DELAY\"), \\\n",
    "                F.col(\"LATE_AIRCRAFT_DELAY_LABEL\").alias(\"LATE_AIRCRAFT_DELAY\"))\n",
    "\n",
    "del15df.show(10)"
   ]
  },
  {
   "cell_type": "code",
   "execution_count": 25,
   "metadata": {},
   "outputs": [
    {
     "name": "stdout",
     "output_type": "stream",
     "text": [
      "FeaturesLabels2012.csv\n",
      "FeaturesLabels2011.csv\n",
      "FeaturesLabels2010.csv\n",
      "FeaturesLabels2009.csv\n",
      "FeaturesLabels2008.csv\n",
      "FeaturesLabels2007.csv\n",
      "FeaturesLabels2006.csv\n",
      "FeaturesLabels2005.csv\n",
      "FeaturesLabels2004.csv\n"
     ]
    }
   ],
   "source": [
    "# save features and label in files\n",
    "years = [2012-x for x in range (9)] # list of years in reverse.\n",
    "\n",
    "for year in years:\n",
    "        filename = \"FeaturesLabels\" + str(year) + \".csv\"\n",
    "        print(filename)\n",
    "        del15df.where((del15df.YEAR == year)).toPandas().to_csv(\"./Data/preprocR2-1/\"+filename, header=True)"
   ]
  },
  {
   "cell_type": "markdown",
   "metadata": {},
   "source": [
    "# Data Cleaning Checks"
   ]
  },
  {
   "cell_type": "code",
   "execution_count": null,
   "metadata": {},
   "outputs": [],
   "source": [
    "# check for NULL values in original data\n",
    "df.select([F.count(when(F.isnull(c), c)).alias(c) for c in df.columns]).show()"
   ]
  },
  {
   "cell_type": "code",
   "execution_count": 24,
   "metadata": {
    "scrolled": false
   },
   "outputs": [
    {
     "name": "stdout",
     "output_type": "stream",
     "text": [
      "+----+-----+-----------+--------------+----+--------------+------------+------------+--------+-------------+-------------+---------+--------------+-------------------+\n",
      "|YEAR|MONTH|DAY_OF_WEEK|UNIQUE_CARRIER|DEST|DEST_STATE_ABR|CRS_DEP_TIME|CRS_ARR_TIME|DISTANCE|CARRIER_DELAY|WEATHER_DELAY|NAS_DELAY|SECURITY_DELAY|LATE_AIRCRAFT_DELAY|\n",
      "+----+-----+-----------+--------------+----+--------------+------------+------------+--------+-------------+-------------+---------+--------------+-------------------+\n",
      "|   0|    0|          0|             0|   0|             0|           0|           0|       0|            0|            0|        0|             0|                  0|\n",
      "+----+-----+-----------+--------------+----+--------------+------------+------------+--------+-------------+-------------+---------+--------------+-------------------+\n",
      "\n",
      "+----+-----+-----------+--------------+----+--------------+------------+------------+--------+-------------+-------------+---------+--------------+-------------------+\n",
      "|YEAR|MONTH|DAY_OF_WEEK|UNIQUE_CARRIER|DEST|DEST_STATE_ABR|CRS_DEP_TIME|CRS_ARR_TIME|DISTANCE|CARRIER_DELAY|WEATHER_DELAY|NAS_DELAY|SECURITY_DELAY|LATE_AIRCRAFT_DELAY|\n",
      "+----+-----+-----------+--------------+----+--------------+------------+------------+--------+-------------+-------------+---------+--------------+-------------------+\n",
      "|   0|    0|          0|             0|   0|             0|           0|           0|       0|            0|            0|        0|             0|                  0|\n",
      "+----+-----+-----------+--------------+----+--------------+------------+------------+--------+-------------+-------------+---------+--------------+-------------------+\n",
      "\n"
     ]
    }
   ],
   "source": [
    "# check for NULL values and Nan values in delayed flights final data\n",
    "del15df.select([F.count(when(F.isnan(c), c)).alias(c) for c in del15df.columns]).show()\n",
    "del15df.select([F.count(when(F.isnull(c), c)).alias(c) for c in del15df.columns]).show()"
   ]
  },
  {
   "cell_type": "code",
   "execution_count": null,
   "metadata": {},
   "outputs": [],
   "source": []
  }
 ],
 "metadata": {
  "kernelspec": {
   "display_name": "Python 3",
   "language": "python",
   "name": "python3"
  },
  "language_info": {
   "codemirror_mode": {
    "name": "ipython",
    "version": 3
   },
   "file_extension": ".py",
   "mimetype": "text/x-python",
   "name": "python",
   "nbconvert_exporter": "python",
   "pygments_lexer": "ipython3",
   "version": "3.7.2"
  }
 },
 "nbformat": 4,
 "nbformat_minor": 2
}
